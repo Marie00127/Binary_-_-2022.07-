{
  "nbformat": 4,
  "nbformat_minor": 0,
  "metadata": {
    "colab": {
      "name": "이분탐색_백준_16401.ipynb",
      "provenance": [],
      "authorship_tag": "ABX9TyMnZ12efzs78b/b3j072KOE",
      "include_colab_link": true
    },
    "kernelspec": {
      "name": "python3",
      "display_name": "Python 3"
    },
    "language_info": {
      "name": "python"
    }
  },
  "cells": [
    {
      "cell_type": "markdown",
      "metadata": {
        "id": "view-in-github",
        "colab_type": "text"
      },
      "source": [
        "<a href=\"https://colab.research.google.com/github/Marie00127/Binary_CodingTestStudy_2022.07/blob/main/%EC%9D%B4%EB%B6%84%ED%83%90%EC%83%89_%EB%B0%B1%EC%A4%80_16401.ipynb\" target=\"_parent\"><img src=\"https://colab.research.google.com/assets/colab-badge.svg\" alt=\"Open In Colab\"/></a>"
      ]
    },
    {
      "cell_type": "markdown",
      "source": [
        "과자 길이의 중간값 mid를 가지고 모든 과자를 한 바퀴 돌면서 나눠줄 과자의 길이가 mid일 때 몇명한테 나누어줄 수 있는지 확인\n",
        "\n",
        "만약 나눠줄 인원보다 많거나 같으면 mid보다 긴 길이로 나눠줄 수도 있기에 start = mid + 1 값을 넣고 같은 과정 실행하기 (이때 mid 값 다른 변수에 저장해두기)\n",
        "\n",
        "나눠줄 인원보다 적으면 길이가 mid보다 작을 때 나눠줄 수도 있기에 end = mid - 1 넣고 같은 과정 실행\n",
        "\n",
        "위 과정을 반복하다가 mid = 0이 되었을 때 즉 나눠줄 수 없는 경우에는 while문 중단"
      ],
      "metadata": {
        "id": "M7m09NnSpDoK"
      }
    },
    {
      "cell_type": "code",
      "execution_count": 4,
      "metadata": {
        "colab": {
          "base_uri": "https://localhost:8080/"
        },
        "id": "rcw30v6Ytsvu",
        "outputId": "e0054657-f2bb-4b12-d6a3-905d17b90a52"
      },
      "outputs": [
        {
          "output_type": "stream",
          "name": "stdout",
          "text": [
            "3 10\n",
            "1 2 3 4 5 6 7 8 9 10\n",
            "8\n"
          ]
        }
      ],
      "source": [
        "m, n = map(int, input().split())\n",
        "snacks = list(map(int, input().split()))\n",
        "snacks.sort()\n",
        "\n",
        "start = 0\n",
        "end = max(snacks)\n",
        "\n",
        "while(start <= end):\n",
        "  cnt = 0\n",
        "  mid = (start + end) // 2\n",
        "\n",
        "  if mid == 0:\n",
        "    break\n",
        "  \n",
        "  for snack in snacks:\n",
        "    cnt += (snack // mid)\n",
        "\n",
        "  if cnt < m:\n",
        "    end = mid - 1\n",
        "  \n",
        "  else:\n",
        "    start = mid + 1\n",
        "    snack_max = mid\n",
        "\n",
        "print(snack_max)"
      ]
    }
  ]
}