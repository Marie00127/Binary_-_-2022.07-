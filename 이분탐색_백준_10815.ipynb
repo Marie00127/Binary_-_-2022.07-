{
  "nbformat": 4,
  "nbformat_minor": 0,
  "metadata": {
    "colab": {
      "name": "이분탐색_백준_10815.ipynb",
      "provenance": [],
      "authorship_tag": "ABX9TyPXCrdg7KlK5k1ZC9Ay2Hja",
      "include_colab_link": true
    },
    "kernelspec": {
      "name": "python3",
      "display_name": "Python 3"
    },
    "language_info": {
      "name": "python"
    }
  },
  "cells": [
    {
      "cell_type": "markdown",
      "metadata": {
        "id": "view-in-github",
        "colab_type": "text"
      },
      "source": [
        "<a href=\"https://colab.research.google.com/github/Marie00127/Binary_CodingTestStudy_2022.07/blob/main/%EC%9D%B4%EB%B6%84%ED%83%90%EC%83%89_%EB%B0%B1%EC%A4%80_10815.ipynb\" target=\"_parent\"><img src=\"https://colab.research.google.com/assets/colab-badge.svg\" alt=\"Open In Colab\"/></a>"
      ]
    },
    {
      "cell_type": "code",
      "execution_count": 33,
      "metadata": {
        "colab": {
          "base_uri": "https://localhost:8080/"
        },
        "id": "t85T_Ae56L5l",
        "outputId": "74a1773f-fc33-44fa-f48c-1bb4c797101f"
      },
      "outputs": [
        {
          "output_type": "stream",
          "name": "stdout",
          "text": [
            "5\n",
            "6 3 2 10 -10\n",
            "8\n",
            "10 9 -5 2 3 4 5 -10\n",
            "1 0 0 1 1 0 0 1 "
          ]
        }
      ],
      "source": [
        "#index error\n",
        "\n",
        "N = int(input())\n",
        "\n",
        "card = list(map(int, input().split()))\n",
        "card.sort()\n",
        "\n",
        "M = int(input())\n",
        "\n",
        "num = list(map(int, input().split()))\n",
        "\n",
        "start = 0\n",
        "end = N - 1\n",
        "i = 0\n",
        "\n",
        "while(i != M):\n",
        "  if(start > end):\n",
        "    print(0, end = ' ')\n",
        "    start = 0\n",
        "    end = N - 1\n",
        "    i = i + 1\n",
        "\n",
        "  mid = (start + end) // 2\n",
        "\n",
        "  if(card[mid] == num[i]):\n",
        "    print(1, end = ' ')\n",
        "    start = 0\n",
        "    end = N - 1\n",
        "    i = i + 1\n",
        "  \n",
        "  elif(card[mid] < num[i]):\n",
        "    start = mid + 1\n",
        "  \n",
        "  else:\n",
        "    end = mid - 1"
      ]
    },
    {
      "cell_type": "code",
      "source": [
        "N = int(input())\n",
        "\n",
        "card = list(map(int, input().split()))\n",
        "card.sort()\n",
        "\n",
        "M = int(input())\n",
        "\n",
        "num = list(map(int, input().split()))\n",
        "\n",
        "def find(m):\n",
        "  start = 0\n",
        "  end = N - 1\n",
        "\n",
        "  while(start <= end):\n",
        "   mid = (start + end) // 2\n",
        "\n",
        "   if(card[mid] == num[i]):\n",
        "     return 1\n",
        "  \n",
        "   elif(card[mid] < num[i]):\n",
        "     start = mid + 1\n",
        "  \n",
        "   elif(card[mid] > num[i]):\n",
        "     end = mid - 1\n",
        "  \n",
        "  return 0\n",
        "\n",
        "for i in range(M):\n",
        "  flag = find(num[i])\n",
        "  print(flag, end = ' ')"
      ],
      "metadata": {
        "colab": {
          "base_uri": "https://localhost:8080/"
        },
        "id": "_ME1DzHckzkO",
        "outputId": "50411a4d-4a30-4479-b158-1dc97782209a"
      },
      "execution_count": 32,
      "outputs": [
        {
          "output_type": "stream",
          "name": "stdout",
          "text": [
            "5\n",
            "6 3 2 10 -10\n",
            "8\n",
            "10 9 -5 2 3 4 5 -10\n",
            "1 0 0 1 1 0 0 1 "
          ]
        }
      ]
    },
    {
      "cell_type": "code",
      "source": [
        ""
      ],
      "metadata": {
        "id": "d3V6v0RDq31N"
      },
      "execution_count": null,
      "outputs": []
    }
  ]
}