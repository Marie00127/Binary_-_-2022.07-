{
  "nbformat": 4,
  "nbformat_minor": 0,
  "metadata": {
    "colab": {
      "name": "이분탐색_백준_2805.ipynb",
      "provenance": [],
      "authorship_tag": "ABX9TyN2xCFVDoZGUlkUNO6a9G95",
      "include_colab_link": true
    },
    "kernelspec": {
      "name": "python3",
      "display_name": "Python 3"
    },
    "language_info": {
      "name": "python"
    }
  },
  "cells": [
    {
      "cell_type": "markdown",
      "metadata": {
        "id": "view-in-github",
        "colab_type": "text"
      },
      "source": [
        "<a href=\"https://colab.research.google.com/github/Marie00127/Binary_CodingTestStudy_2022.07/blob/main/%EC%9D%B4%EB%B6%84%ED%83%90%EC%83%89_%EB%B0%B1%EC%A4%80_2805.ipynb\" target=\"_parent\"><img src=\"https://colab.research.google.com/assets/colab-badge.svg\" alt=\"Open In Colab\"/></a>"
      ]
    },
    {
      "cell_type": "markdown",
      "source": [
        "백준 16401 문제와 유사"
      ],
      "metadata": {
        "id": "Eps0cWKtAyMX"
      }
    },
    {
      "cell_type": "code",
      "execution_count": 2,
      "metadata": {
        "colab": {
          "base_uri": "https://localhost:8080/"
        },
        "id": "qrWI2hYco-3O",
        "outputId": "5434c039-1408-45ab-e458-d33f9a1bcfd9"
      },
      "outputs": [
        {
          "output_type": "stream",
          "name": "stdout",
          "text": [
            "5 20\n",
            "4 42 40 26 46\n",
            "36\n"
          ]
        }
      ],
      "source": [
        "n, m = map(int, input().split())\n",
        "trees = list(map(int, input().split()))\n",
        "\n",
        "start = 0\n",
        "end = max(trees)\n",
        "\n",
        "while(start <= end):\n",
        "  total = 0\n",
        "  mid = (start + end) // 2\n",
        "\n",
        "  if mid == 0:\n",
        "    break\n",
        "  \n",
        "  for tree in trees:\n",
        "    if tree >= mid:\n",
        "      total += (tree - mid)\n",
        "\n",
        "  if total < m:\n",
        "    end = mid - 1\n",
        "  \n",
        "  else:\n",
        "    start = mid + 1\n",
        "    tree_max = mid\n",
        "\n",
        "print(tree_max)"
      ]
    }
  ]
}