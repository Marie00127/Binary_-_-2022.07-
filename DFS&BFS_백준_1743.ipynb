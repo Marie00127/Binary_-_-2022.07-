{
  "nbformat": 4,
  "nbformat_minor": 0,
  "metadata": {
    "colab": {
      "name": "DFS&BFS_백준_1743.ipynb",
      "provenance": [],
      "collapsed_sections": [],
      "authorship_tag": "ABX9TyO/aZxAxGNrXk0/8rZBFvQp",
      "include_colab_link": true
    },
    "kernelspec": {
      "name": "python3",
      "display_name": "Python 3"
    },
    "language_info": {
      "name": "python"
    }
  },
  "cells": [
    {
      "cell_type": "markdown",
      "metadata": {
        "id": "view-in-github",
        "colab_type": "text"
      },
      "source": [
        "<a href=\"https://colab.research.google.com/github/Marie00127/Binary_CodingTestStudy_2022.07/blob/main/DFS%26BFS_%EB%B0%B1%EC%A4%80_1743.ipynb\" target=\"_parent\"><img src=\"https://colab.research.google.com/assets/colab-badge.svg\" alt=\"Open In Colab\"/></a>"
      ]
    },
    {
      "cell_type": "code",
      "execution_count": 5,
      "metadata": {
        "colab": {
          "base_uri": "https://localhost:8080/"
        },
        "id": "JUp_ZFxL3_co",
        "outputId": "51ac326c-df7a-4254-c763-3184cf11de63"
      },
      "outputs": [
        {
          "output_type": "stream",
          "name": "stdout",
          "text": [
            "3 4 5\n",
            "3 2\n",
            "2 2\n",
            "3 1\n",
            "2 3\n",
            "1 1\n",
            "4\n"
          ]
        }
      ],
      "source": [
        "#dfs\n",
        "n, m, k = map(int, input().split()) # 통로의 세로 길이 n, 통로의 가로 길이 m, 음식물 쓰레기의 개수 k\n",
        "graph = [[0]*m for i in range(n)]\n",
        "visited = [[0]*m for i in range(n)]\n",
        "\n",
        "for i in range(k):\n",
        "  x, y = map(int, input().split())\n",
        "  graph[x - 1][y - 1] = 1\n",
        "\n",
        "# 상하좌우\n",
        "dx = [1, -1, 0, 0]\n",
        "dy = [0, 0, -1, 1]\n",
        "\n",
        "#재귀\n",
        "def dfs(x, y, size, visited):\n",
        "  for i in range(4):\n",
        "    X = x + dx[i]\n",
        "    Y = y + dy[i]\n",
        "\n",
        "    if 0 <= X < n and 0 <= Y < m and graph[X][Y] == 1 and visited[X][Y] == 0:\n",
        "      visited[X][Y] = 1\n",
        "      size += 1\n",
        "      size = dfs(X, Y, size, visited)\n",
        "  \n",
        "  return size\n",
        "\n",
        "result = 0\n",
        "\n",
        "for i in range(n):\n",
        "  for j in range(m):\n",
        "    if graph[i][j] == 1:\n",
        "      visited[i][j] = 1\n",
        "      result = max(result, dfs(i, j, 1, visited))\n",
        "\n",
        "print(result)"
      ]
    },
    {
      "cell_type": "code",
      "source": [
        "#bfs\n",
        "n, m, k = map(int, input().split())\n",
        "graph = [[0]*m for i in range(n)]\n",
        "visited = [[0]*m for i in range(n)]\n",
        "\n",
        "for i in range(k):\n",
        "  x, y = map(int, input().split())\n",
        "  graph[x - 1][y - 1] = 1\n",
        "\n",
        "dx = [1, -1, 0, 0] # 상하좌우\n",
        "dy = [0, 0, -1, 1]\n",
        "\n",
        "q = [] # 큐 선언\n",
        "\n",
        "def bfs(x, y, size, visited):\n",
        "  q.append([x, y])\n",
        "\n",
        "  while q:\n",
        "    x = q[0][0]\n",
        "    y = q[0][1]\n",
        "    del q[0]\n",
        "\n",
        "    for i in range(4):\n",
        "      X = x + dx[i]\n",
        "      Y = y + dy[i]\n",
        "\n",
        "      if 0 <= X < n and 0 <= Y < m and graph[X][Y] == 1 and visited[X][Y] == 0:\n",
        "        q.append([X, Y])\n",
        "        visited[X][Y] = 1\n",
        "        size += 1\n",
        "  \n",
        "  return size\n",
        "\n",
        "result = 0\n",
        "\n",
        "for i in range(n):\n",
        "  for j in range(m):\n",
        "    if graph[i][j] == 1:\n",
        "      visited[i][j] = 1\n",
        "      result = max(result, bfs(i, j, 1, visited))\n",
        "\n",
        "print(result)"
      ],
      "metadata": {
        "colab": {
          "base_uri": "https://localhost:8080/"
        },
        "id": "reuho_weNsN9",
        "outputId": "1ecca438-1ce7-4813-9f65-b185bd00f70a"
      },
      "execution_count": 7,
      "outputs": [
        {
          "output_type": "stream",
          "name": "stdout",
          "text": [
            "3 4 5\n",
            "3 2\n",
            "2 2\n",
            "3 1\n",
            "2 3\n",
            "1 1\n",
            "4\n"
          ]
        }
      ]
    }
  ]
}