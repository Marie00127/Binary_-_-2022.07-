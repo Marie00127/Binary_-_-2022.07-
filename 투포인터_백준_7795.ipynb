{
  "nbformat": 4,
  "nbformat_minor": 0,
  "metadata": {
    "colab": {
      "name": "투포인터_백준_7795.ipynb",
      "provenance": [],
      "authorship_tag": "ABX9TyOBp8cTNLo9KB/DJjULM4ls",
      "include_colab_link": true
    },
    "kernelspec": {
      "name": "python3",
      "display_name": "Python 3"
    },
    "language_info": {
      "name": "python"
    }
  },
  "cells": [
    {
      "cell_type": "markdown",
      "metadata": {
        "id": "view-in-github",
        "colab_type": "text"
      },
      "source": [
        "<a href=\"https://colab.research.google.com/github/Marie00127/Binary_CodingTestStudy_2022.07/blob/main/%ED%88%AC%ED%8F%AC%EC%9D%B8%ED%84%B0_%EB%B0%B1%EC%A4%80_7795.ipynb\" target=\"_parent\"><img src=\"https://colab.research.google.com/assets/colab-badge.svg\" alt=\"Open In Colab\"/></a>"
      ]
    },
    {
      "cell_type": "code",
      "execution_count": 18,
      "metadata": {
        "colab": {
          "base_uri": "https://localhost:8080/"
        },
        "id": "sFikfEqvpNby",
        "outputId": "ac778905-3e7a-4aa7-bcb3-f5bdbfd273b5"
      },
      "outputs": [
        {
          "output_type": "stream",
          "name": "stdout",
          "text": [
            "2\n",
            "5 3\n",
            "8 7 1 3 1\n",
            "3 6 1\n",
            "7\n",
            "3 4\n",
            "2 13 7\n",
            "103 11 290 215\n",
            "1\n"
          ]
        }
      ],
      "source": [
        "t = int(input())\n",
        "\n",
        "for i in range(t):\n",
        "  n, m = map(int, input().split()) #A의 개수, B의 개수\n",
        "\n",
        "  a = list(map(int, input().split())) # A의 크기\n",
        "  b = list(map(int, input().split())) # B의 크기\n",
        "\n",
        "  #정렬\n",
        "  a.sort() \n",
        "  b.sort()\n",
        "\n",
        "  b_idx = 0\n",
        "  cnt = 0 # A가 B보다 큰 경우의 수\n",
        "\n",
        "  for j in range(n):\n",
        "    while True:\n",
        "      if b_idx == m or a[j] <= b[b_idx]:\n",
        "        cnt += b_idx\n",
        "        break\n",
        "\n",
        "      else:\n",
        "        b_idx += 1\n",
        "\n",
        "  print(cnt)"
      ]
    }
  ]
}