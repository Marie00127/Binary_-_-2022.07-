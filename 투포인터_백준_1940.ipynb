{
  "nbformat": 4,
  "nbformat_minor": 0,
  "metadata": {
    "colab": {
      "name": "투포인터_백준_1940.ipynb",
      "provenance": [],
      "authorship_tag": "ABX9TyOmF8RhAV0ko4KCsklWPHor",
      "include_colab_link": true
    },
    "kernelspec": {
      "name": "python3",
      "display_name": "Python 3"
    },
    "language_info": {
      "name": "python"
    }
  },
  "cells": [
    {
      "cell_type": "markdown",
      "metadata": {
        "id": "view-in-github",
        "colab_type": "text"
      },
      "source": [
        "<a href=\"https://colab.research.google.com/github/Marie00127/Binary_CodingTestStudy_2022.07/blob/main/%ED%88%AC%ED%8F%AC%EC%9D%B8%ED%84%B0_%EB%B0%B1%EC%A4%80_1940.ipynb\" target=\"_parent\"><img src=\"https://colab.research.google.com/assets/colab-badge.svg\" alt=\"Open In Colab\"/></a>"
      ]
    },
    {
      "cell_type": "code",
      "execution_count": 5,
      "metadata": {
        "colab": {
          "base_uri": "https://localhost:8080/"
        },
        "id": "fKavHCUw2rZj",
        "outputId": "e55f3352-5d34-45bf-cd2d-612d65358749"
      },
      "outputs": [
        {
          "output_type": "stream",
          "name": "stdout",
          "text": [
            "6\n",
            "9\n",
            "2 7 4 1 5 3\n",
            "2\n"
          ]
        }
      ],
      "source": [
        "n = int(input())\n",
        "m = int(input())\n",
        "n_num = list(map(int, input().split()))\n",
        "\n",
        "n_num.sort()\n",
        "\n",
        "cnt = 0\n",
        "left = 0\n",
        "right = n - 1\n",
        "\n",
        "while left < right:\n",
        "  sum = n_num[left] + n_num[right]\n",
        "  if sum < m:\n",
        "    left += 1\n",
        "  \n",
        "  elif sum > m:\n",
        "    right -= 1\n",
        "\n",
        "  else:\n",
        "    cnt += 1\n",
        "    left += 1\n",
        "    right -= 1\n",
        "\n",
        "print(cnt)"
      ]
    }
  ]
}