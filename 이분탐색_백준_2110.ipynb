{
  "nbformat": 4,
  "nbformat_minor": 0,
  "metadata": {
    "colab": {
      "name": "이분탐색_백준_2110.ipynb",
      "provenance": [],
      "authorship_tag": "ABX9TyP7zjaKUfsv9St9gJ+gjPDZ",
      "include_colab_link": true
    },
    "kernelspec": {
      "name": "python3",
      "display_name": "Python 3"
    },
    "language_info": {
      "name": "python"
    }
  },
  "cells": [
    {
      "cell_type": "markdown",
      "metadata": {
        "id": "view-in-github",
        "colab_type": "text"
      },
      "source": [
        "<a href=\"https://colab.research.google.com/github/Marie00127/Binary_CodingTestStudy_2022.07/blob/main/%EC%9D%B4%EB%B6%84%ED%83%90%EC%83%89_%EB%B0%B1%EC%A4%80_2110.ipynb\" target=\"_parent\"><img src=\"https://colab.research.google.com/assets/colab-badge.svg\" alt=\"Open In Colab\"/></a>"
      ]
    },
    {
      "cell_type": "code",
      "execution_count": 7,
      "metadata": {
        "colab": {
          "base_uri": "https://localhost:8080/"
        },
        "id": "nz3D54iZA8YR",
        "outputId": "83cec973-00fa-4c70-9b9b-6e9f2afe55ae"
      },
      "outputs": [
        {
          "output_type": "stream",
          "name": "stdout",
          "text": [
            "5 3\n",
            "1\n",
            "2\n",
            "8\n",
            "4\n",
            "9\n",
            "3\n"
          ]
        }
      ],
      "source": [
        "n, c = map(int, input().split())\n",
        "x = list(0 for i in range(0, n))\n",
        "\n",
        "for i in range(n):\n",
        "  x[i] = int(input())\n",
        "\n",
        "x.sort()\n",
        "\n",
        "start = 1\n",
        "#start = x[0]\n",
        "end = x[-1] - x[0]\n",
        "\n",
        "while(start <= end):\n",
        "  mid = (start + end) // 2\n",
        "  cnt = 1\n",
        "  s = x[0]\n",
        "\n",
        "  for i in range(1, len(x)):\n",
        "    if x[i] >= s + mid: #공유기 설치\n",
        "      cnt += 1\n",
        "      s = x[i]\n",
        "  \n",
        "  if cnt >= c:\n",
        "    start = mid + 1\n",
        "    result = mid\n",
        "\n",
        "  else:\n",
        "    end = mid - 1\n",
        "\n",
        "print(result)"
      ]
    }
  ]
}