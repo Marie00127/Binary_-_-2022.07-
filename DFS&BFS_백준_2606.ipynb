{
  "nbformat": 4,
  "nbformat_minor": 0,
  "metadata": {
    "colab": {
      "name": "DFS&BFS_백준_2606.ipynb",
      "provenance": [],
      "authorship_tag": "ABX9TyOlUxJyZyu33zxGYMSwAGN1",
      "include_colab_link": true
    },
    "kernelspec": {
      "name": "python3",
      "display_name": "Python 3"
    },
    "language_info": {
      "name": "python"
    }
  },
  "cells": [
    {
      "cell_type": "markdown",
      "metadata": {
        "id": "view-in-github",
        "colab_type": "text"
      },
      "source": [
        "<a href=\"https://colab.research.google.com/github/Marie00127/Binary_CodingTestStudy_2022.07/blob/main/DFS%26BFS_%EB%B0%B1%EC%A4%80_2606.ipynb\" target=\"_parent\"><img src=\"https://colab.research.google.com/assets/colab-badge.svg\" alt=\"Open In Colab\"/></a>"
      ]
    },
    {
      "cell_type": "code",
      "execution_count": 24,
      "metadata": {
        "colab": {
          "base_uri": "https://localhost:8080/"
        },
        "id": "tY13Q3RUvUCK",
        "outputId": "c8f9501c-9fb6-4430-fc39-ea2c89991cc8"
      },
      "outputs": [
        {
          "output_type": "stream",
          "name": "stdout",
          "text": [
            "7\n",
            "6\n",
            "1 2\n",
            "2 3\n",
            "1 5\n",
            "5 2\n",
            "5 6\n",
            "4 7\n",
            "4\n"
          ]
        }
      ],
      "source": [
        "#dfs\n",
        "computers = int(input())\n",
        "cnt = int(input())\n",
        "graph = [[] for i in range(computers + 1)]\n",
        "\n",
        "for i in range(cnt):\n",
        "  a, b = map(int, input().split())\n",
        "  graph[a].append(b)\n",
        "  graph[b].append(a)\n",
        "\n",
        "def dfs (graph, s, visited):\n",
        "  for i in graph[s]:\n",
        "    if i not in visited:\n",
        "      visited.append(i)\n",
        "      dfs(graph, i, visited)\n",
        "\n",
        "visited = []\n",
        "dfs(graph, 1, visited)\n",
        "print(len(visited) - 1)"
      ]
    },
    {
      "cell_type": "code",
      "source": [
        "#bfs\n",
        "computers = int(input())\n",
        "cnt = int(input())\n",
        "graph = [[] for i in range(computers + 1)]\n",
        "\n",
        "for i in range(cnt):\n",
        "  a, b = map(int, input().split())\n",
        "  graph[a].append(b)\n",
        "  graph[b].append(a)\n",
        "\n",
        "def bfs (graph, s, visited):\n",
        "  q = [s]\n",
        "  while q:\n",
        "    for i in graph[q.pop()]:\n",
        "      if i not in visited:\n",
        "        visited.append(i)\n",
        "        q.append(i)\n",
        "\n",
        "visited = []\n",
        "bfs(graph, 1, visited)\n",
        "print(len(visited) - 1)"
      ],
      "metadata": {
        "colab": {
          "base_uri": "https://localhost:8080/"
        },
        "id": "Pnc7hUqIKA-R",
        "outputId": "85d57eb0-d0ca-486f-9234-e76ebedfd3f8"
      },
      "execution_count": 27,
      "outputs": [
        {
          "output_type": "stream",
          "name": "stdout",
          "text": [
            "7\n",
            "6\n",
            "1 2\n",
            "2 3\n",
            "1 5\n",
            "5 2\n",
            "5 6\n",
            "4 7\n",
            "4\n"
          ]
        }
      ]
    }
  ]
}